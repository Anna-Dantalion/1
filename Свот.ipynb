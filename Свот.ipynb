{
  "nbformat": 4,
  "nbformat_minor": 0,
  "metadata": {
    "colab": {
      "name": "Свот",
      "provenance": [],
      "collapsed_sections": [],
      "include_colab_link": true
    },
    "kernelspec": {
      "name": "python3",
      "display_name": "Python 3"
    },
    "language_info": {
      "name": "python"
    }
  },
  "cells": [
    {
      "cell_type": "markdown",
      "metadata": {
        "id": "view-in-github",
        "colab_type": "text"
      },
      "source": [
        "<a href=\"https://colab.research.google.com/github/Anna-Dantalion/1/blob/main/%D0%A1%D0%B2%D0%BE%D1%82.ipynb\" target=\"_parent\"><img src=\"https://colab.research.google.com/assets/colab-badge.svg\" alt=\"Open In Colab\"/></a>"
      ]
    },
    {
      "cell_type": "code",
      "metadata": {
        "colab": {
          "base_uri": "https://localhost:8080/"
        },
        "id": "jVs1TDDGGr4H",
        "outputId": "f5420bf5-506b-414d-8e13-2bbed5d9aaa7"
      },
      "source": [
        "#@title ФИО\n",
        "\n",
        "\n",
        "print(\"Группа - 20БИ-3\")\n",
        "print(\"ФИО - Рыбакова Ирина Николаевна\")\n",
        "!ln -fs /usr/share/zoneinfo/Europe/Moscow /etc/localtime\n",
        "!date"
      ],
      "execution_count": null,
      "outputs": [
        {
          "output_type": "stream",
          "text": [
            "Группа - 20БИ-3\n",
            "ФИО - Рыбакова Ирина Николаевна\n",
            "Sat Mar 27 17:35:05 MSK 2021\n"
          ],
          "name": "stdout"
        }
      ]
    },
    {
      "cell_type": "code",
      "metadata": {
        "colab": {
          "base_uri": "https://localhost:8080/"
        },
        "id": "V7TMQi-EHYBh",
        "outputId": "1bf052d9-276a-4480-e2f3-6ab9da90effe"
      },
      "source": [
        "#@title Подключение к google диску\n",
        "\n",
        "\n",
        "import gspread\n",
        "import os\n",
        "\n",
        "from google.colab import auth\n",
        "auth.authenticate_user()\n",
        "!pip install --upgrade gspread\n",
        "\n",
        "from google.colab import drive\n",
        "drive.mount('/content/drive')\n",
        "\n",
        "print('\\n', os.listdir('/content/drive/MyDrive/Colab Notebooks/Проект'))\n",
        "%ll -lF /content/drive/MyDrive/\"Colab Notebooks\"/swot/\n",
        "\n",
        "from oauth2client.client import GoogleCredentials\n",
        "gs = gspread.authorize(GoogleCredentials.get_application_default())\n",
        "\n",
        "table = gs.open_by_key('1-E-FjyFo_DCiESUNSjco4B4-nArfgNqSTaU7jeJGhJw')\n",
        "print('\\n', table.worksheets())\n",
        "\n",
        "!ln -fs /usr/share/zoneinfo/Europe/Moscow /etc/localtime\n",
        "print('\\n')"
      ],
      "execution_count": null,
      "outputs": [
        {
          "output_type": "stream",
          "text": [
            "Requirement already up-to-date: gspread in /usr/local/lib/python3.7/dist-packages (3.7.0)\n",
            "Requirement already satisfied, skipping upgrade: google-auth-oauthlib>=0.4.1 in /usr/local/lib/python3.7/dist-packages (from gspread) (0.4.3)\n",
            "Requirement already satisfied, skipping upgrade: google-auth>=1.12.0 in /usr/local/lib/python3.7/dist-packages (from gspread) (1.27.1)\n",
            "Requirement already satisfied, skipping upgrade: requests-oauthlib>=0.7.0 in /usr/local/lib/python3.7/dist-packages (from google-auth-oauthlib>=0.4.1->gspread) (1.3.0)\n",
            "Requirement already satisfied, skipping upgrade: setuptools>=40.3.0 in /usr/local/lib/python3.7/dist-packages (from google-auth>=1.12.0->gspread) (54.1.2)\n",
            "Requirement already satisfied, skipping upgrade: cachetools<5.0,>=2.0.0 in /usr/local/lib/python3.7/dist-packages (from google-auth>=1.12.0->gspread) (4.2.1)\n",
            "Requirement already satisfied, skipping upgrade: rsa<5,>=3.1.4; python_version >= \"3.6\" in /usr/local/lib/python3.7/dist-packages (from google-auth>=1.12.0->gspread) (4.7.2)\n",
            "Requirement already satisfied, skipping upgrade: pyasn1-modules>=0.2.1 in /usr/local/lib/python3.7/dist-packages (from google-auth>=1.12.0->gspread) (0.2.8)\n",
            "Requirement already satisfied, skipping upgrade: six>=1.9.0 in /usr/local/lib/python3.7/dist-packages (from google-auth>=1.12.0->gspread) (1.15.0)\n",
            "Requirement already satisfied, skipping upgrade: oauthlib>=3.0.0 in /usr/local/lib/python3.7/dist-packages (from requests-oauthlib>=0.7.0->google-auth-oauthlib>=0.4.1->gspread) (3.1.0)\n",
            "Requirement already satisfied, skipping upgrade: requests>=2.0.0 in /usr/local/lib/python3.7/dist-packages (from requests-oauthlib>=0.7.0->google-auth-oauthlib>=0.4.1->gspread) (2.23.0)\n",
            "Requirement already satisfied, skipping upgrade: pyasn1>=0.1.3 in /usr/local/lib/python3.7/dist-packages (from rsa<5,>=3.1.4; python_version >= \"3.6\"->google-auth>=1.12.0->gspread) (0.4.8)\n",
            "Requirement already satisfied, skipping upgrade: chardet<4,>=3.0.2 in /usr/local/lib/python3.7/dist-packages (from requests>=2.0.0->requests-oauthlib>=0.7.0->google-auth-oauthlib>=0.4.1->gspread) (3.0.4)\n",
            "Requirement already satisfied, skipping upgrade: idna<3,>=2.5 in /usr/local/lib/python3.7/dist-packages (from requests>=2.0.0->requests-oauthlib>=0.7.0->google-auth-oauthlib>=0.4.1->gspread) (2.10)\n",
            "Requirement already satisfied, skipping upgrade: urllib3!=1.25.0,!=1.25.1,<1.26,>=1.21.1 in /usr/local/lib/python3.7/dist-packages (from requests>=2.0.0->requests-oauthlib>=0.7.0->google-auth-oauthlib>=0.4.1->gspread) (1.24.3)\n",
            "Requirement already satisfied, skipping upgrade: certifi>=2017.4.17 in /usr/local/lib/python3.7/dist-packages (from requests>=2.0.0->requests-oauthlib>=0.7.0->google-auth-oauthlib>=0.4.1->gspread) (2020.12.5)\n",
            "Drive already mounted at /content/drive; to attempt to forcibly remount, call drive.mount(\"/content/drive\", force_remount=True).\n",
            "\n",
            " ['Проект.gsheet']\n",
            "ls: cannot access '/content/drive/MyDrive/Colab Notebooks/swot/': No such file or directory\n",
            "\n",
            " [<Worksheet 'Проект' id:0>, <Worksheet 'strenghts' id:1088121844>, <Worksheet 'weakness' id:423449216>, <Worksheet 'opportunities' id:1602471436>, <Worksheet 'threats' id:1517354040>]\n",
            "\n",
            "\n"
          ],
          "name": "stdout"
        }
      ]
    },
    {
      "cell_type": "code",
      "metadata": {
        "colab": {
          "base_uri": "https://localhost:8080/"
        },
        "id": "7Mpv41Ajfva9",
        "outputId": "24ebb438-0f9f-4526-8fde-c3e02699b783"
      },
      "source": [
        "import os\n",
        "import time\n",
        "from google.colab import auth\n",
        "auth.authenticate_user()\n",
        "!pip install --upgrade gspread\n",
        "import gspread\n",
        "from oauth2client.client import GoogleCredentials\n",
        "print('\\nРаботаем с таблицей')\n",
        "%ll -lAF /content/drive/MyDrive/\"Colab Notebooks\"/fold/\n",
        "gs = gspread.authorize(GoogleCredentials.get_application_default())\n",
        "os.stat('/content/drive/MyDrive/Colab Notebooks/Проект/Проект.gsheet')\n",
        "table = gs.open_by_key('1-E-FjyFo_DCiESUNSjco4B4-nArfgNqSTaU7jeJGhJw')\n",
        "print(dir(table))\n",
        "worksheet = table.worksheet('Проект')\n",
        "rows = worksheet.get_all_values()\n",
        "print(rows)\n",
        "strength = [0] * 6\n",
        "s = 0\n",
        "opportunities = [0] * 6\n",
        "o = 0\n",
        "weakness = [0] * 6\n",
        "w = 0\n",
        "threats = [0] * 6\n",
        "t = 0\n",
        "flag = 'strength'\n",
        "for i in rows:\n",
        "  if i[0] == 'strength':\n",
        "    flag = 'strength'\n",
        "  if i[0] == 'weakness':\n",
        "    flag = 'weakness'\n",
        "  if i[0] == 'opportunities':\n",
        "    flag = 'opportunities'\n",
        "  if i[0] == 'threats':\n",
        "    flag = 'threats'\n",
        "  if flag == 'strength' and i[4] != '' and i[4] != 'power':\n",
        "    strength[s] = i[4]\n",
        "    s = s + 1\n",
        "  if flag == 'opportunities' and i[4] != '' and i[4] != 'power':\n",
        "    opportunities[o] = i[4]\n",
        "    o = o + 1\n",
        "  if flag == 'weakness' and i[4] != '' and i[4] != 'power':\n",
        "    weakness[w] = i[4]\n",
        "    w = w + 1\n",
        "  if flag == 'threats' and i[4] != '' and i[4] != 'power':\n",
        "    threats[t] = i[4]\n",
        "    t = t + 1\n",
        "print(strength)\n",
        "print(opportunities)\n",
        "print(weakness)\n",
        "print(threats)\n",
        "streng = 0\n",
        "opport = 0\n",
        "weak = 0\n",
        "threat = 0\n",
        "for i in strength:\n",
        "  streng = streng + float(i)\n",
        "for i in opportunities:\n",
        "  opport = opport + float(i)\n",
        "for i in weakness:\n",
        "  weak = weak + float(i)\n",
        "for i in threats:\n",
        "  threat = threat + float(i)\n",
        "worksheet.update('A43', 'strength ' + str(streng))\n",
        "worksheet.update('B43', 'weakness ' + str(weak))\n",
        "worksheet.update('C43', 'opportunities ' + str(opport))\n",
        "worksheet.update('D43', 'threats ' + str(threat))\n",
        "worksheet.update('A44', 'sum power ' + str(streng + opport - weak - threat))\n",
        "probab = (streng + opport) / (streng + opport + weak + threat)\n",
        "worksheet.update('B44', 'probability of good result ' + str(probab))"
      ],
      "execution_count": null,
      "outputs": [
        {
          "output_type": "stream",
          "text": [
            "Requirement already up-to-date: gspread in /usr/local/lib/python3.7/dist-packages (3.7.0)\n",
            "Requirement already satisfied, skipping upgrade: google-auth-oauthlib>=0.4.1 in /usr/local/lib/python3.7/dist-packages (from gspread) (0.4.3)\n",
            "Requirement already satisfied, skipping upgrade: google-auth>=1.12.0 in /usr/local/lib/python3.7/dist-packages (from gspread) (1.27.1)\n",
            "Requirement already satisfied, skipping upgrade: requests-oauthlib>=0.7.0 in /usr/local/lib/python3.7/dist-packages (from google-auth-oauthlib>=0.4.1->gspread) (1.3.0)\n",
            "Requirement already satisfied, skipping upgrade: setuptools>=40.3.0 in /usr/local/lib/python3.7/dist-packages (from google-auth>=1.12.0->gspread) (54.1.2)\n",
            "Requirement already satisfied, skipping upgrade: rsa<5,>=3.1.4; python_version >= \"3.6\" in /usr/local/lib/python3.7/dist-packages (from google-auth>=1.12.0->gspread) (4.7.2)\n",
            "Requirement already satisfied, skipping upgrade: pyasn1-modules>=0.2.1 in /usr/local/lib/python3.7/dist-packages (from google-auth>=1.12.0->gspread) (0.2.8)\n",
            "Requirement already satisfied, skipping upgrade: six>=1.9.0 in /usr/local/lib/python3.7/dist-packages (from google-auth>=1.12.0->gspread) (1.15.0)\n",
            "Requirement already satisfied, skipping upgrade: cachetools<5.0,>=2.0.0 in /usr/local/lib/python3.7/dist-packages (from google-auth>=1.12.0->gspread) (4.2.1)\n",
            "Requirement already satisfied, skipping upgrade: requests>=2.0.0 in /usr/local/lib/python3.7/dist-packages (from requests-oauthlib>=0.7.0->google-auth-oauthlib>=0.4.1->gspread) (2.23.0)\n",
            "Requirement already satisfied, skipping upgrade: oauthlib>=3.0.0 in /usr/local/lib/python3.7/dist-packages (from requests-oauthlib>=0.7.0->google-auth-oauthlib>=0.4.1->gspread) (3.1.0)\n",
            "Requirement already satisfied, skipping upgrade: pyasn1>=0.1.3 in /usr/local/lib/python3.7/dist-packages (from rsa<5,>=3.1.4; python_version >= \"3.6\"->google-auth>=1.12.0->gspread) (0.4.8)\n",
            "Requirement already satisfied, skipping upgrade: urllib3!=1.25.0,!=1.25.1,<1.26,>=1.21.1 in /usr/local/lib/python3.7/dist-packages (from requests>=2.0.0->requests-oauthlib>=0.7.0->google-auth-oauthlib>=0.4.1->gspread) (1.24.3)\n",
            "Requirement already satisfied, skipping upgrade: chardet<4,>=3.0.2 in /usr/local/lib/python3.7/dist-packages (from requests>=2.0.0->requests-oauthlib>=0.7.0->google-auth-oauthlib>=0.4.1->gspread) (3.0.4)\n",
            "Requirement already satisfied, skipping upgrade: certifi>=2017.4.17 in /usr/local/lib/python3.7/dist-packages (from requests>=2.0.0->requests-oauthlib>=0.7.0->google-auth-oauthlib>=0.4.1->gspread) (2020.12.5)\n",
            "Requirement already satisfied, skipping upgrade: idna<3,>=2.5 in /usr/local/lib/python3.7/dist-packages (from requests>=2.0.0->requests-oauthlib>=0.7.0->google-auth-oauthlib>=0.4.1->gspread) (2.10)\n",
            "\n",
            "Работаем с таблицей\n",
            "ls: cannot access '/content/drive/MyDrive/Colab Notebooks/fold/': No such file or directory\n",
            "['__class__', '__delattr__', '__dict__', '__dir__', '__doc__', '__eq__', '__format__', '__ge__', '__getattribute__', '__gt__', '__hash__', '__init__', '__init_subclass__', '__iter__', '__le__', '__lt__', '__module__', '__ne__', '__new__', '__reduce__', '__reduce_ex__', '__repr__', '__setattr__', '__sizeof__', '__str__', '__subclasshook__', '__weakref__', '_properties', '_spreadsheets_get', '_spreadsheets_sheets_copy_to', 'add_worksheet', 'batch_update', 'client', 'del_worksheet', 'duplicate_sheet', 'fetch_sheet_metadata', 'get_worksheet', 'id', 'list_permissions', 'remove_permissions', 'reorder_worksheets', 'share', 'sheet1', 'title', 'updated', 'url', 'values_append', 'values_batch_get', 'values_batch_update', 'values_clear', 'values_get', 'values_update', 'worksheet', 'worksheets']\n",
            "[['Онлайн библиотека', '', '', '', ''], ['', '', '', '', ''], ['strength', '', '', '', ''], ['name', 'actions', 'importance', 'probability', 'power'], ['Сравнительно большая аудитория\\n', 'При хорошей и частой рекламе в соответствующих по тематике группах и приложениях можно привлечь многих любителей читать', '9', '0.6', '5.4'], ['Простота в использовании', 'Создание удобного и простого в использовании сайта обеспечивает отсутсвие проблем в данной сфере', '8', '0.8', '6.4'], ['Большой выбор', 'С помощью электронных устройств можно легко свзяаться со множеством авторов и договориться с ними по поводу публикации их работ', '8', '0.6', '4.8'], ['Легкий доступ', 'Вынесение сайта в отдельное приложение, доступное для скачивания', '7', '0.5', '3.5'], ['Поддержка авторов', 'Привлечение молодых авторов, которые только начали публиковаться и еще не набрали себе большую аудиторию', '6', '0.6', '3.6'], ['Отсутствие необходимости скачивать книги', 'Разработка комфортного для чтения оформления текста', '6', '0.7', '4.2'], ['', '', '', '', ''], ['', '', '', '', ''], ['weakness', '', '', '', ''], ['name', 'actions', 'importance', 'probability', 'power'], ['Необходимость больших затрат на рекламу \\r', 'Выбор нескольких самых эффективных групп и приложений для рекламы', '7', '0.5', '3.5'], ['Большая нагрузка на сайт', 'Подключение дополнительных серверов в облачных хранилищах', '8', '0.8', '6.4'], ['Проблемы с поиском нужного произведения', 'Добавление сортировки книг по названию, автору, жанрам', '8', '0.6', '4.8'], ['Наличие нежелаемого контента', 'Возможность исключить из поиска опредленных авторов и жанры', '8', '0.6', '4.8'], ['Отсутстиве отклика пользователей', 'Добавление возможности оставлять отзывы к работам, к определенным главам и страницам', '8', '0.8', '6.4'], ['Необходимость затрат на получение платных изданий', 'Добавление платного вип-режима для клиентов для получения дополнительного дохода', '7', '0.4', '2.8'], ['', '', '', '', ''], ['', '', '', '', ''], ['opportunities', '', '', '', ''], ['name', 'actions', 'importance', 'probability', 'power'], ['Добавление списка популярных работ', 'Добавление сортировки списка по жанрам', '8', '0.7', '5.6'], ['Проведение обсуждений произведений на разную тематику', 'Добавление возможности онлайн общения во время проведения данных мероприятия', '7', '0.6', '4.2'], ['Сохранение понравившихся работ', 'Добавление возможности создавать личные сборники по опреленным тематикам', '9', '0.9', '8.1'], ['Возможность публиковать работу в процессе ее написания', 'Добавление возможности выкладывать отдельные главы', '8', '0.7', '5.6'], ['Отслеживание работ', 'Добавление функции уведомлений о выходе новой главы или работы', '9', '0.8', '7.2'], ['Рекоммендации', 'Подборка работ с похожими жанрами из понравившихся произведений', '7', '0.7', '4.9'], ['', '', '', '', ''], ['', '', '', '', ''], ['threats', '', '', '', ''], ['name', 'actions', 'importance', 'probability', 'power'], ['Конкуренция', 'Налаживание работы службы поддержки, создание дружелюбной и приятной атмосферы', '6', '0.5', '3'], ['Хаккерские атаки', 'Обеспечение граммотной защиты сайта и наем специалистов по электронной безопасности', '7', '0.6', '4.2'], ['Агрессивные пользователи', 'Добавление функции \"жалоба\", активное отслеживание и бан подобный аккаунтов', '7', '0.6', '4.2'], ['Нарушение авторских прав', 'Проверка новых работ авторов на плагиат', '5', '0.4', '2'], ['Неисправность сайта', 'Наличие специалистов, способных быстро найти ошибку и исправить ее', '5', '0.7', '3.5'], ['Возможность уничтожения баз данных', 'Создание дублирущих серверов-хранилищ для обеспечения безопасности данных', '8', '0.8', '6.4']]\n",
            "['5.4', '6.4', '4.8', '3.5', '3.6', '4.2']\n",
            "['5.6', '4.2', '8.1', '5.6', '7.2', '4.9']\n",
            "['3.5', '6.4', '4.8', '4.8', '6.4', '2.8']\n",
            "['3', '4.2', '4.2', '2', '3.5', '6.4']\n"
          ],
          "name": "stdout"
        },
        {
          "output_type": "execute_result",
          "data": {
            "text/plain": [
              "{'spreadsheetId': '1-E-FjyFo_DCiESUNSjco4B4-nArfgNqSTaU7jeJGhJw',\n",
              " 'updatedCells': 1,\n",
              " 'updatedColumns': 1,\n",
              " 'updatedRange': \"'Проект'!B44\",\n",
              " 'updatedRows': 1}"
            ]
          },
          "metadata": {
            "tags": []
          },
          "execution_count": 18
        }
      ]
    },
    {
      "cell_type": "code",
      "metadata": {
        "colab": {
          "base_uri": "https://localhost:8080/",
          "height": 545
        },
        "id": "DzWoo4ndzGP4",
        "outputId": "070bee09-4567-4804-89bd-105d80227e2c"
      },
      "source": [
        "#@title Strength диаграмма\n",
        "\n",
        "\n",
        "import matplotlib.pyplot as plt\n",
        "\n",
        "worksheet = table.worksheet(\"strenghts\")\n",
        "rows = worksheet.get_all_values()\n",
        "str_name = list()\n",
        "str_importance = list()\n",
        "str_probability = list()\n",
        "str_power = list()\n",
        "\n",
        "i = 0\n",
        "for row in rows:\n",
        "  if (i>2):\n",
        "    str_name.append(row[0])\n",
        "    str_importance.append(int(row[2]))\n",
        "    str_probability.append(float(row[3]))\n",
        "    str_power.append(int(row[2])*float(row[3]))\n",
        "  i+=1\n",
        "print('\\n', str_name, str_importance, str_probability, str_power, sep='\\n', end='\\n\\n')\n",
        "\n",
        "cell_list = worksheet.range('E4:E9')\n",
        "i = 0\n",
        "for cell in cell_list:\n",
        "    cell.value = str_power[i]\n",
        "    i+=1\n",
        "\n",
        "worksheet.update_cells(cell_list)\n",
        "\n",
        "labels = ['1', '2', '3', '4', '5','6' ]\n",
        "plt.ylabel(\"Мощность воздействия\")\n",
        "plt.xlabel(\"Обозначения:\")\n",
        "plt.title(\"Strengths:\")\n",
        "plt.bar(labels, str_power)\n",
        "plt.grid(axis = 'y', linestyle = '--')\n",
        "plt.show()\n",
        "for i in range(str_name.__len__()):\n",
        "        print(i+1, \" - \", str_name[i])\n",
        "        i += 1"
      ],
      "execution_count": null,
      "outputs": [
        {
          "output_type": "stream",
          "text": [
            "\n",
            "\n",
            "['Сравнительно большая аудитория\\n', 'Простота в использовании', 'Большой выбор', 'Легкий доступ', 'Поддержка авторов', 'Отсутствие необходимости скачивать книги']\n",
            "[9, 8, 8, 7, 6, 6]\n",
            "[0.6, 0.8, 0.6, 0.5, 0.6, 0.7]\n",
            "[5.3999999999999995, 6.4, 4.8, 3.5, 3.5999999999999996, 4.199999999999999]\n",
            "\n"
          ],
          "name": "stdout"
        },
        {
          "output_type": "display_data",
          "data": {
            "image/png": "[encoded data removed]",
            "text/plain": [
              "<Figure size 432x288 with 1 Axes>"
            ]
          },
          "metadata": {
            "tags": [],
            "needs_background": "light"
          }
        },
        {
          "output_type": "stream",
          "text": [
            "1  -  Сравнительно большая аудитория\n",
            "\n",
            "2  -  Простота в использовании\n",
            "3  -  Большой выбор\n",
            "4  -  Легкий доступ\n",
            "5  -  Поддержка авторов\n",
            "6  -  Отсутствие необходимости скачивать книги\n"
          ],
          "name": "stdout"
        }
      ]
    },
    {
      "cell_type": "code",
      "metadata": {
        "colab": {
          "base_uri": "https://localhost:8080/",
          "height": 547
        },
        "id": "aN4Y3BMz02jW",
        "outputId": "c1742630-b556-4d68-9488-032e5906422a"
      },
      "source": [
        "#@title Weakness диаграмма\n",
        "\n",
        "\n",
        "worksheet = table.worksheet(\"weakness\")\n",
        "rows = worksheet.get_all_values()\n",
        "weak_name = list()\n",
        "weak_importance = list()\n",
        "weak_probability = list()\n",
        "weak_power = list()\n",
        "\n",
        "i = 0\n",
        "for row in rows:\n",
        "  if (i>2):\n",
        "    weak_name.append(row[0])\n",
        "    weak_importance.append(int(row[2]))\n",
        "    weak_probability.append(float(row[3]))\n",
        "    weak_power.append(int(row[2])*float(row[3]))\n",
        "  i+=1\n",
        "print('\\n', weak_name, weak_importance, weak_probability, weak_power, sep='\\n', end='\\n\\n')\n",
        "\n",
        "cell_list = worksheet.range('E4:E8')\n",
        "i = 0\n",
        "for cell in cell_list:\n",
        "    cell.value = weak_power[i]\n",
        "    i+=1\n",
        "\n",
        "worksheet.update_cells(cell_list)\n",
        "\n",
        "labels = ['1', '2', '3', '4', '5', '6']\n",
        "plt.ylabel(\"Мощность воздействия\")\n",
        "plt.xlabel(\"Обозначения:\")\n",
        "plt.title(\"Weaknesses:\")\n",
        "plt.bar(labels, weak_power)\n",
        "plt.grid(axis = 'y', linestyle = '--')\n",
        "plt.show()\n",
        "for i in range(weak_name.__len__()):\n",
        "        print(i+1, \" - \", weak_name[i])\n",
        "        i += 1"
      ],
      "execution_count": null,
      "outputs": [
        {
          "output_type": "stream",
          "text": [
            "\n",
            "\n",
            "['Необходимость больших затрат на рекламу \\r', 'Большая нагрузка на сайт', 'Проблемы с поиском нужного произведения', 'Наличие нежелаемого контента', 'Отсутстиве отклика пользователей', 'Необходимость затрат на получение платных изданий']\n",
            "[7, 8, 8, 8, 8, 7]\n",
            "[0.5, 0.8, 0.6, 0.6, 0.8, 0.4]\n",
            "[3.5, 6.4, 4.8, 4.8, 6.4, 2.8000000000000003]\n",
            "\n"
          ],
          "name": "stdout"
        },
        {
          "output_type": "display_data",
          "data": {
            "image/png": "[encoded data removed]",
            "text/plain": [
              "<Figure size 432x288 with 1 Axes>"
            ]
          },
          "metadata": {
            "tags": [],
            "needs_background": "light"
          }
        },
        {
          "output_type": "stream",
          "text": [
            "1  -  Необходимость больших затрат на рекламу \r\n",
            "2  -  Большая нагрузка на сайт\n",
            "3  -  Проблемы с поиском нужного произведения\n",
            "4  -  Наличие нежелаемого контента\n",
            "5  -  Отсутстиве отклика пользователей\n",
            "6  -  Необходимость затрат на получение платных изданий\n"
          ],
          "name": "stdout"
        }
      ]
    },
    {
      "cell_type": "code",
      "metadata": {
        "colab": {
          "base_uri": "https://localhost:8080/",
          "height": 547
        },
        "id": "WAj80YWa0_1U",
        "outputId": "6dacd9dc-3aea-4bd6-ac2d-d8d8efa8ba89"
      },
      "source": [
        "#@title Opportunities диаграмма\n",
        "\n",
        "\n",
        "worksheet = table.worksheet(\"opportunities\")\n",
        "rows = worksheet.get_all_values()\n",
        "opp_name = list()\n",
        "opp_importance = list()\n",
        "opp_probability = list()\n",
        "opp_power = list()\n",
        "\n",
        "i = 0\n",
        "for row in rows:\n",
        "  if (i>2):\n",
        "    opp_name.append(row[0])\n",
        "    opp_importance.append(int(row[2]))\n",
        "    opp_probability.append(float(row[3]))\n",
        "    opp_power.append(int(row[2])*float(row[3]))  \n",
        "  i+=1\n",
        "print('\\n', opp_name, opp_importance, opp_probability, opp_power, sep='\\n', end='\\n\\n')\n",
        "\n",
        "cell_list = worksheet.range('E4:E8')\n",
        "i = 0\n",
        "for cell in cell_list:\n",
        "    cell.value = opp_power[i]\n",
        "    i+=1\n",
        "worksheet.update_cells(cell_list)\n",
        "\n",
        "labels = ['1', '2', '3', '4', '5', '6']\n",
        "plt.ylabel(\"Мощность воздействия\")\n",
        "plt.xlabel(\"Обозначения:\")\n",
        "plt.title(\"Opportunities:\")\n",
        "plt.bar(labels, opp_power)\n",
        "plt.grid(axis = 'y', linestyle = '--')\n",
        "plt.show()\n",
        "for i in range(opp_name.__len__()):\n",
        "        print(i+1, \" - \", opp_name[i])\n",
        "        i += 1"
      ],
      "execution_count": null,
      "outputs": [
        {
          "output_type": "stream",
          "text": [
            "\n",
            "\n",
            "['Добавление списка популярных работ', 'Проведение обсуждений произведений на разную тематику', 'Сохранение понравившихся работ', 'Возможность публиковать работу в процессе ее написания', 'Отслеживание работ', 'Рекоммендации']\n",
            "[8, 7, 9, 8, 9, 7]\n",
            "[0.7, 0.6, 0.9, 0.7, 0.8, 0.7]\n",
            "[5.6, 4.2, 8.1, 5.6, 7.2, 4.8999999999999995]\n",
            "\n"
          ],
          "name": "stdout"
        },
        {
          "output_type": "display_data",
          "data": {
            "image/png": "[encoded data removed]",
            "text/plain": [
              "<Figure size 432x288 with 1 Axes>"
            ]
          },
          "metadata": {
            "tags": [],
            "needs_background": "light"
          }
        },
        {
          "output_type": "stream",
          "text": [
            "1  -  Добавление списка популярных работ\n",
            "2  -  Проведение обсуждений произведений на разную тематику\n",
            "3  -  Сохранение понравившихся работ\n",
            "4  -  Возможность публиковать работу в процессе ее написания\n",
            "5  -  Отслеживание работ\n",
            "6  -  Рекоммендации\n"
          ],
          "name": "stdout"
        }
      ]
    },
    {
      "cell_type": "code",
      "metadata": {
        "colab": {
          "base_uri": "https://localhost:8080/",
          "height": 527
        },
        "id": "EMBdfGh-1HWP",
        "outputId": "3e606d4b-0dd0-4774-e0e8-d07cd35bffcc"
      },
      "source": [
        "#@title Threats диаграмма\n",
        "\n",
        "\n",
        "worksheet = table.worksheet(\"threats\")\n",
        "rows = worksheet.get_all_values()\n",
        "thr_name = list()\n",
        "thr_importance = list()\n",
        "thr_probability = list()\n",
        "thr_power = list()\n",
        "\n",
        "i = 0\n",
        "for row in rows:\n",
        "  if (i>2):\n",
        "    thr_name.append(row[0])\n",
        "    thr_importance.append(int(row[2]))\n",
        "    thr_probability.append(float(row[3]))\n",
        "    thr_power.append(int(row[2])*float(row[3]))    \n",
        "  i+=1\n",
        "print('\\n', thr_name, thr_importance, thr_probability, thr_power, sep='\\n', end='\\n\\n')\n",
        "\n",
        "cell_list = worksheet.range('E4:E8')\n",
        "i = 0\n",
        "for cell in cell_list:\n",
        "    cell.value = thr_power[i]\n",
        "    i+=1\n",
        "\n",
        "worksheet.update_cells(cell_list)\n",
        "\n",
        "labels = ['1', '2', '3', '4', '5', '6']\n",
        "plt.ylabel(\"Мощность воздействия\")\n",
        "plt.xlabel(\"Обозначения:\")\n",
        "plt.title(\"Threats:\")\n",
        "plt.bar(labels, thr_power)\n",
        "plt.grid(axis = 'y', linestyle = '--')\n",
        "plt.show()\n",
        "for i in range(thr_name.__len__()):\n",
        "        print(i+1, \" - \", thr_name[i])\n",
        "        i += 1"
      ],
      "execution_count": null,
      "outputs": [
        {
          "output_type": "stream",
          "text": [
            "\n",
            "\n",
            "['Конкуренция', 'Хаккерские атаки', 'Агрессивные пользователи', 'Нарушение авторских прав', 'Неисправность сайта', 'Возможность уничтожения баз данных']\n",
            "[6, 7, 7, 5, 5, 8]\n",
            "[0.5, 0.6, 0.6, 0.4, 0.7, 0.8]\n",
            "[3.0, 4.2, 4.2, 2.0, 3.5, 6.4]\n",
            "\n"
          ],
          "name": "stdout"
        },
        {
          "output_type": "display_data",
          "data": {
            "image/png": "[encoded data removed]",
            "text/plain": [
              "<Figure size 432x288 with 1 Axes>"
            ]
          },
          "metadata": {
            "tags": [],
            "needs_background": "light"
          }
        },
        {
          "output_type": "stream",
          "text": [
            "1  -  Конкуренция\n",
            "2  -  Хаккерские атаки\n",
            "3  -  Агрессивные пользователи\n",
            "4  -  Нарушение авторских прав\n",
            "5  -  Неисправность сайта\n",
            "6  -  Возможность уничтожения баз данных\n"
          ],
          "name": "stdout"
        }
      ]
    },
    {
      "cell_type": "code",
      "metadata": {
        "colab": {
          "base_uri": "https://localhost:8080/",
          "height": 1000
        },
        "id": "XueWBE7s1NOP",
        "outputId": "6c606c26-34a9-467d-a568-eab914ee5d49"
      },
      "source": [
        "#@title Конечная диаграмма\n",
        "\n",
        "\n",
        "import os\n",
        "import time\n",
        "from google.colab import auth\n",
        "auth.authenticate_user()\n",
        "!pip install --upgrade gspread\n",
        "import gspread\n",
        "from oauth2client.client import GoogleCredentials\n",
        "print('\\nРаботаем с таблицей')\n",
        "%ll -lAF /content/drive/MyDrive/\"Colab Notebooks\"/fold/\n",
        "gs = gspread.authorize(GoogleCredentials.get_application_default())\n",
        "os.stat('/content/drive/MyDrive/Colab Notebooks/Проект/Проект.gsheet')\n",
        "table = gs.open_by_key('1-E-FjyFo_DCiESUNSjco4B4-nArfgNqSTaU7jeJGhJw')\n",
        "worksheet = table.worksheet('Проект')\n",
        "rows = worksheet.get_all_values()\n",
        "print(rows)\n",
        "strength = [0] * 6\n",
        "s = 0\n",
        "opportunities = [0] * 6\n",
        "o = 0\n",
        "weakness = [0] * 6\n",
        "w = 0\n",
        "threats = [0] * 6\n",
        "t = 0\n",
        "flag = 'strength'\n",
        "for i in rows:\n",
        "  if i[0] == 'strength':\n",
        "    flag = 'strength'\n",
        "  if i[0] == 'weakness':\n",
        "    flag = 'weakness'\n",
        "  if i[0] == 'opportunities':\n",
        "    flag = 'opportunities'\n",
        "  if i[0] == 'threats':\n",
        "    flag = 'threats'\n",
        "  if flag == 'strength' and i[4] != '' and i[4] != 'power':\n",
        "    strength[s] = i[4]\n",
        "    s = s + 1\n",
        "  if flag == 'opportunities' and i[4] != '' and i[4] != 'power':\n",
        "    opportunities[o] = i[4]\n",
        "    o = o + 1\n",
        "  if flag == 'weakness' and i[4] != '' and i[4] != 'power':\n",
        "    weakness[w] = i[4]\n",
        "    w = w + 1\n",
        "  if flag == 'threats' and i[4] != '' and i[4] != 'power':\n",
        "    threats[t] = i[4]\n",
        "    t = t + 1\n",
        "streng = 0\n",
        "opport = 0\n",
        "weak = 0\n",
        "threat = 0\n",
        "for i in strength:\n",
        "  streng = streng + float(i)\n",
        "for i in opportunities:\n",
        "  opport = opport + float(i)\n",
        "for i in weakness:\n",
        "  weak = weak + float(i)\n",
        "for i in threats:\n",
        "  threat = threat + float(i)\n",
        "\n",
        "import matplotlib.pyplot as plt\n",
        "x=list()\n",
        "x_float=list()\n",
        "title=list()\n",
        "y_float=list()\n",
        "    \n",
        "title = [ \"strengths\", \"weaknesses\", \"opportunities\", \"threats\", \"result\"]\n",
        "x=title\n",
        "x_float = [1, 2, 3, 4, 5]\n",
        "result = streng - 1*weak + opport - 1*threat\n",
        "y = [streng, weak, opport, threat]\n",
        "y_float = [streng, -1*weak, opport, -1*threat,  result]\n",
        "print(x_float,title,y_float)\n",
        "print('списки формированы-->\\n')\n",
        "x_pos=list()\n",
        "for i in range(x_float.__len__()):\n",
        "    x_pos.append(i)\n",
        "print('<!--разбивка по абсцисс и значения ординат\\n', len( x_float), x_pos, y_float, ' -->\\n')\n",
        "\n",
        "fig=plt.figure(figsize=(8,6), dpi=72)\n",
        "plt.bar(x_pos, y_float, width=0.75, align='edge', alpha=0.4)\n",
        "plt.xticks(x_pos,  x_float, fontsize=14)\n",
        "plt.xlabel('Обозначения1', fontsize=14)\n",
        "plt.ylabel('Мощность воздействия', fontsize=14)\n",
        "plt.title('SWOT', fontsize=14)\n",
        "plt.grid(True, color='r', linestyle='-', linewidth=2)\n",
        "#plt.draw()\n",
        "plt.show()\n",
        "fig.savefig(\"/content/drive/MyDrive/Colab Notebooks/Проект/matplot_bar_swot.png\")\n",
        "print('<div class=\"d-flex flex-row \">')\n",
        "print('<div class=\"card m-1\" style=\"width: 28rem;\">',\n",
        "      '<img  src=\"/content/drive/MyDrive/Colab Notebooks/foldr/matplot_bar_swot.png\" class=\"card-img-top\" alt=\"...\">',\n",
        "      '<div class=\"card-body\">')\n",
        "    \n",
        "for i in range(title.__len__()):\n",
        "    print(i+1, \" - \", title[i], \"; \")\n",
        "    i += 1\n",
        "print('</div>', '</div>')\n",
        "print('<div>')"
      ],
      "execution_count": null,
      "outputs": [
        {
          "output_type": "stream",
          "text": [
            "Requirement already up-to-date: gspread in /usr/local/lib/python3.7/dist-packages (3.7.0)\n",
            "Requirement already satisfied, skipping upgrade: google-auth-oauthlib>=0.4.1 in /usr/local/lib/python3.7/dist-packages (from gspread) (0.4.3)\n",
            "Requirement already satisfied, skipping upgrade: google-auth>=1.12.0 in /usr/local/lib/python3.7/dist-packages (from gspread) (1.27.1)\n",
            "Requirement already satisfied, skipping upgrade: requests-oauthlib>=0.7.0 in /usr/local/lib/python3.7/dist-packages (from google-auth-oauthlib>=0.4.1->gspread) (1.3.0)\n",
            "Requirement already satisfied, skipping upgrade: six>=1.9.0 in /usr/local/lib/python3.7/dist-packages (from google-auth>=1.12.0->gspread) (1.15.0)\n",
            "Requirement already satisfied, skipping upgrade: pyasn1-modules>=0.2.1 in /usr/local/lib/python3.7/dist-packages (from google-auth>=1.12.0->gspread) (0.2.8)\n",
            "Requirement already satisfied, skipping upgrade: cachetools<5.0,>=2.0.0 in /usr/local/lib/python3.7/dist-packages (from google-auth>=1.12.0->gspread) (4.2.1)\n",
            "Requirement already satisfied, skipping upgrade: setuptools>=40.3.0 in /usr/local/lib/python3.7/dist-packages (from google-auth>=1.12.0->gspread) (54.1.2)\n",
            "Requirement already satisfied, skipping upgrade: rsa<5,>=3.1.4; python_version >= \"3.6\" in /usr/local/lib/python3.7/dist-packages (from google-auth>=1.12.0->gspread) (4.7.2)\n",
            "Requirement already satisfied, skipping upgrade: requests>=2.0.0 in /usr/local/lib/python3.7/dist-packages (from requests-oauthlib>=0.7.0->google-auth-oauthlib>=0.4.1->gspread) (2.23.0)\n",
            "Requirement already satisfied, skipping upgrade: oauthlib>=3.0.0 in /usr/local/lib/python3.7/dist-packages (from requests-oauthlib>=0.7.0->google-auth-oauthlib>=0.4.1->gspread) (3.1.0)\n",
            "Requirement already satisfied, skipping upgrade: pyasn1<0.5.0,>=0.4.6 in /usr/local/lib/python3.7/dist-packages (from pyasn1-modules>=0.2.1->google-auth>=1.12.0->gspread) (0.4.8)\n",
            "Requirement already satisfied, skipping upgrade: certifi>=2017.4.17 in /usr/local/lib/python3.7/dist-packages (from requests>=2.0.0->requests-oauthlib>=0.7.0->google-auth-oauthlib>=0.4.1->gspread) (2020.12.5)\n",
            "Requirement already satisfied, skipping upgrade: urllib3!=1.25.0,!=1.25.1,<1.26,>=1.21.1 in /usr/local/lib/python3.7/dist-packages (from requests>=2.0.0->requests-oauthlib>=0.7.0->google-auth-oauthlib>=0.4.1->gspread) (1.24.3)\n",
            "Requirement already satisfied, skipping upgrade: idna<3,>=2.5 in /usr/local/lib/python3.7/dist-packages (from requests>=2.0.0->requests-oauthlib>=0.7.0->google-auth-oauthlib>=0.4.1->gspread) (2.10)\n",
            "Requirement already satisfied, skipping upgrade: chardet<4,>=3.0.2 in /usr/local/lib/python3.7/dist-packages (from requests>=2.0.0->requests-oauthlib>=0.7.0->google-auth-oauthlib>=0.4.1->gspread) (3.0.4)\n",
            "\n",
            "Работаем с таблицей\n",
            "ls: cannot access '/content/drive/MyDrive/Colab Notebooks/fold/': No such file or directory\n",
            "[['Онлайн библиотека', '', '', '', ''], ['', '', '', '', ''], ['strength', '', '', '', ''], ['name', 'actions', 'importance', 'probability', 'power'], ['Сравнительно большая аудитория\\n', 'При хорошей и частой рекламе в соответствующих по тематике группах и приложениях можно привлечь многих любителей читать', '9', '0.6', '5.4'], ['Простота в использовании', 'Создание удобного и простого в использовании сайта обеспечивает отсутсвие проблем в данной сфере', '8', '0.8', '6.4'], ['Большой выбор', 'С помощью электронных устройств можно легко свзяаться со множеством авторов и договориться с ними по поводу публикации их работ', '8', '0.6', '4.8'], ['Легкий доступ', 'Вынесение сайта в отдельное приложение, доступное для скачивания', '7', '0.5', '3.5'], ['Поддержка авторов', 'Привлечение молодых авторов, которые только начали публиковаться и еще не набрали себе большую аудиторию', '6', '0.6', '3.6'], ['Отсутствие необходимости скачивать книги', 'Разработка комфортного для чтения оформления текста', '6', '0.7', '4.2'], ['', '', '', '', ''], ['', '', '', '', ''], ['weakness', '', '', '', ''], ['name', 'actions', 'importance', 'probability', 'power'], ['Необходимость больших затрат на рекламу \\r', 'Выбор нескольких самых эффективных групп и приложений для рекламы', '7', '0.5', '3.5'], ['Большая нагрузка на сайт', 'Подключение дополнительных серверов в облачных хранилищах', '8', '0.8', '6.4'], ['Проблемы с поиском нужного произведения', 'Добавление сортировки книг по названию, автору, жанрам', '8', '0.6', '4.8'], ['Наличие нежелаемого контента', 'Возможность исключить из поиска опредленных авторов и жанры', '8', '0.6', '4.8'], ['Отсутстиве отклика пользователей', 'Добавление возможности оставлять отзывы к работам, к определенным главам и страницам', '8', '0.8', '6.4'], ['Необходимость затрат на получение платных изданий', 'Добавление платного вип-режима для клиентов для получения дополнительного дохода', '7', '0.4', '2.8'], ['', '', '', '', ''], ['', '', '', '', ''], ['opportunities', '', '', '', ''], ['name', 'actions', 'importance', 'probability', 'power'], ['Добавление списка популярных работ', 'Добавление сортировки списка по жанрам', '8', '0.7', '5.6'], ['Проведение обсуждений произведений на разную тематику', 'Добавление возможности онлайн общения во время проведения данных мероприятия', '7', '0.6', '4.2'], ['Сохранение понравившихся работ', 'Добавление возможности создавать личные сборники по опреленным тематикам', '9', '0.9', '8.1'], ['Возможность публиковать работу в процессе ее написания', 'Добавление возможности выкладывать отдельные главы', '8', '0.7', '5.6'], ['Отслеживание работ', 'Добавление функции уведомлений о выходе новой главы или работы', '9', '0.8', '7.2'], ['Рекоммендации', 'Подборка работ с похожими жанрами из понравившихся произведений', '7', '0.7', '4.9'], ['', '', '', '', ''], ['', '', '', '', ''], ['threats', '', '', '', ''], ['name', 'actions', 'importance', 'probability', 'power'], ['Конкуренция', 'Налаживание работы службы поддержки, создание дружелюбной и приятной атмосферы', '6', '0.5', '3'], ['Хаккерские атаки', 'Обеспечение граммотной защиты сайта и наем специалистов по электронной безопасности', '7', '0.6', '4.2'], ['Агрессивные пользователи', 'Добавление функции \"жалоба\", активное отслеживание и бан подобный аккаунтов', '7', '0.6', '4.2'], ['Нарушение авторских прав', 'Проверка новых работ авторов на плагиат', '5', '0.4', '2'], ['Неисправность сайта', 'Наличие специалистов, способных быстро найти ошибку и исправить ее', '5', '0.7', '3.5'], ['Возможность уничтожения баз данных', 'Создание дублирущих серверов-хранилищ для обеспечения безопасности данных', '8', '0.8', '6.4']]\n",
            "[1, 2, 3, 4, 5] ['strengths', 'weaknesses', 'opportunities', 'threats', 'result'] [27.900000000000002, -28.7, 35.6, -23.299999999999997, 11.500000000000007]\n",
            "списки формированы-->\n",
            "\n",
            "<!--разбивка по абсцисс и значения ординат\n",
            " 5 [0, 1, 2, 3, 4] [27.900000000000002, -28.7, 35.6, -23.299999999999997, 11.500000000000007]  -->\n",
            "\n"
          ],
          "name": "stdout"
        },
        {
          "output_type": "display_data",
          "data": {
            "image/png": "[encoded data removed]",
            "text/plain": [
              "<Figure size 576x432 with 1 Axes>"
            ]
          },
          "metadata": {
            "tags": [],
            "needs_background": "light"
          }
        },
        {
          "output_type": "stream",
          "text": [
            "<div class=\"d-flex flex-row \">\n",
            "<div class=\"card m-1\" style=\"width: 28rem;\"> <img  src=\"/content/drive/MyDrive/Colab Notebooks/foldr/matplot_bar_swot.png\" class=\"card-img-top\" alt=\"...\"> <div class=\"card-body\">\n",
            "1  -  strengths ; \n",
            "2  -  weaknesses ; \n",
            "3  -  opportunities ; \n",
            "4  -  threats ; \n",
            "5  -  result ; \n",
            "</div> </div>\n",
            "<div>\n"
          ],
          "name": "stdout"
        }
      ]
    }
  ]
}